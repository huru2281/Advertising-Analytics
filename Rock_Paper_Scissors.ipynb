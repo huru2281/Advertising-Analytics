{
 "cells": [
  {
   "cell_type": "markdown",
   "metadata": {},
   "source": [
    "# This is Rock, Paper, Scissors\n",
    "## Takes input rock, paper, or scissors and plays against the computer"
   ]
  },
  {
   "cell_type": "code",
   "execution_count": 2,
   "metadata": {},
   "outputs": [],
   "source": [
    "from random import randint\n",
    "\n",
    "# create our variables\n",
    "options = ['ROCK', 'PAPER', 'SCISSORS']\n",
    "message = {'tie' : 'Yawn it\\'s a tie', 'won' : 'Yay you won', 'lost' : 'Aww you lost!'}"
   ]
  },
  {
   "cell_type": "code",
   "execution_count": 3,
   "metadata": {},
   "outputs": [],
   "source": [
    "# decides if you or the computer won\n",
    "def decide_winner(user_choice, computer_choice):\n",
    "  print('You selected: %s' % user_choice)\n",
    "  print('Computer selected: %s' % computer_choice)\n",
    "  if user_choice == computer_choice:\n",
    "    print(message['tie'])\n",
    "  elif user_choice == options[0] and computer_choice == options[2]:\n",
    "    print(message['won'])\n",
    "  elif user_choice == options[1] and computer_choice == options[0]:\n",
    "    print(message['won'])\n",
    "  elif user_choice == options[2] and computer_choice == options[1]:\n",
    "    print(message['won'])\n",
    "  else:\n",
    "    print(message['lost'])"
   ]
  },
  {
   "cell_type": "code",
   "execution_count": 4,
   "metadata": {},
   "outputs": [],
   "source": [
    "# defines function to play the game\n",
    "def play_RPS():\n",
    "  user_choice = input('Enter Rock, Paper, or Scissors: ')\n",
    "  user_choice = user_choice.upper()\n",
    "  computer_choice = options[randint(0,2)]\n",
    "  \n",
    "  decide_winner(user_choice, computer_choice)"
   ]
  },
  {
   "cell_type": "code",
   "execution_count": 5,
   "metadata": {},
   "outputs": [
    {
     "name": "stdout",
     "output_type": "stream",
     "text": [
      "Enter Rock, Paper, or Scissors: Paper\n",
      "You selected: PAPER\n",
      "Computer selected: SCISSORS\n",
      "Aww you lost!\n"
     ]
    }
   ],
   "source": [
    "# starts the game\n",
    "play_RPS()"
   ]
  },
  {
   "cell_type": "code",
   "execution_count": null,
   "metadata": {},
   "outputs": [],
   "source": []
  }
 ],
 "metadata": {
  "kernelspec": {
   "display_name": "Python 3",
   "language": "python",
   "name": "python3"
  },
  "language_info": {
   "codemirror_mode": {
    "name": "ipython",
    "version": 3
   },
   "file_extension": ".py",
   "mimetype": "text/x-python",
   "name": "python",
   "nbconvert_exporter": "python",
   "pygments_lexer": "ipython3",
   "version": "3.6.5"
  }
 },
 "nbformat": 4,
 "nbformat_minor": 2
}
